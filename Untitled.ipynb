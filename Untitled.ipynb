{
 "cells": [
  {
   "cell_type": "code",
   "execution_count": 16,
   "id": "100fe33c",
   "metadata": {},
   "outputs": [
    {
     "name": "stdout",
     "output_type": "stream",
     "text": [
      "2022-11-29\n"
     ]
    }
   ],
   "source": [
    "#13.1-3\n",
    "\n",
    "from datetime import date\n",
    "import time\n",
    "\n",
    "file = open(\"today.txt\", \"w\")\n",
    "file.write(str(date.today()))\n",
    "file.close()\n",
    "\n",
    "file = open(\"today.txt\", \"r\")\n",
    "today_string = file.read()\n",
    "date_time_thingy = time.strftime(today_string)\n",
    "print(date_time_thingy)"
   ]
  },
  {
   "cell_type": "code",
   "execution_count": null,
   "id": "d1fdc511",
   "metadata": {},
   "outputs": [],
   "source": [
    "# \n",
    "\n",
    "import multiprocessing\n",
    "import time\n",
    "import ranodm\n",
    "\n",
    "def wait_and_print():\n",
    "    time.sl\n",
    "\n",
    "for _ in range(3):\n",
    "    multiprocessing.Process(target=wait_and_print)"
   ]
  },
  {
   "cell_type": "code",
   "execution_count": null,
   "id": "eeca8063",
   "metadata": {},
   "outputs": [],
   "source": []
  },
  {
   "cell_type": "code",
   "execution_count": null,
   "id": "7259308a",
   "metadata": {},
   "outputs": [],
   "source": []
  },
  {
   "cell_type": "code",
   "execution_count": null,
   "id": "e8827fd4",
   "metadata": {},
   "outputs": [],
   "source": []
  },
  {
   "cell_type": "code",
   "execution_count": null,
   "id": "4c60af7f",
   "metadata": {},
   "outputs": [],
   "source": []
  },
  {
   "cell_type": "code",
   "execution_count": null,
   "id": "a6cabd58",
   "metadata": {},
   "outputs": [],
   "source": []
  },
  {
   "cell_type": "code",
   "execution_count": null,
   "id": "3b93c42c",
   "metadata": {},
   "outputs": [],
   "source": []
  }
 ],
 "metadata": {
  "kernelspec": {
   "display_name": "Python 3 (ipykernel)",
   "language": "python",
   "name": "python3"
  },
  "language_info": {
   "codemirror_mode": {
    "name": "ipython",
    "version": 3
   },
   "file_extension": ".py",
   "mimetype": "text/x-python",
   "name": "python",
   "nbconvert_exporter": "python",
   "pygments_lexer": "ipython3",
   "version": "3.10.8"
  }
 },
 "nbformat": 4,
 "nbformat_minor": 5
}
