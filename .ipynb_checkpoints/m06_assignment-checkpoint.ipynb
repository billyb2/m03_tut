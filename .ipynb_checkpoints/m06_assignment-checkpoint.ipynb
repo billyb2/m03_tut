{
 "cells": [
  {
   "cell_type": "code",
   "execution_count": 16,
   "id": "33ae5d26",
   "metadata": {},
   "outputs": [
    {
     "name": "stdout",
     "output_type": "stream",
     "text": [
      "2022-11-29\n"
     ]
    }
   ],
   "source": [
    "#13.1-3\n",
    "\n",
    "from datetime import date\n",
    "import time\n",
    "\n",
    "file = open(\"today.txt\", \"w\")\n",
    "file.write(str(date.today()))\n",
    "file.close()\n",
    "\n",
    "file = open(\"today.txt\", \"r\")\n",
    "today_string = file.read()\n",
    "date_time_thingy = time.strftime(today_string)\n",
    "print(date_time_thingy)"
   ]
  },
  {
   "cell_type": "code",
   "execution_count": 19,
   "id": "c4c6759c",
   "metadata": {},
   "outputs": [
    {
     "name": "stdout",
     "output_type": "stream",
     "text": [
      "1669780218.6603885\n",
      "1669780218.9293988\n",
      "1669780219.0276387\n"
     ]
    }
   ],
   "source": [
    "#15.1\n",
    "\n",
    "import multiprocessing\n",
    "import time\n",
    "import random\n",
    "\n",
    "def wait_and_print():\n",
    "    time.sleep(random.random())\n",
    "    print(time.time())\n",
    "\n",
    "for _ in range(3):\n",
    "    p = multiprocessing.Process(target=wait_and_print)\n",
    "    p.start()"
   ]
  },
  {
   "cell_type": "code",
   "execution_count": null,
   "id": "62155478",
   "metadata": {},
   "outputs": [],
   "source": []
  },
  {
   "cell_type": "code",
   "execution_count": null,
   "id": "0417674e",
   "metadata": {},
   "outputs": [],
   "source": []
  },
  {
   "cell_type": "code",
   "execution_count": null,
   "id": "92c6578d",
   "metadata": {},
   "outputs": [],
   "source": []
  },
  {
   "cell_type": "code",
   "execution_count": null,
   "id": "cbbe41ad",
   "metadata": {},
   "outputs": [],
   "source": []
  },
  {
   "cell_type": "code",
   "execution_count": null,
   "id": "7ba3387b",
   "metadata": {},
   "outputs": [],
   "source": []
  },
  {
   "cell_type": "code",
   "execution_count": null,
   "id": "c63db14c",
   "metadata": {},
   "outputs": [],
   "source": []
  }
 ],
 "metadata": {
  "kernelspec": {
   "display_name": "Python 3 (ipykernel)",
   "language": "python",
   "name": "python3"
  },
  "language_info": {
   "codemirror_mode": {
    "name": "ipython",
    "version": 3
   },
   "file_extension": ".py",
   "mimetype": "text/x-python",
   "name": "python",
   "nbconvert_exporter": "python",
   "pygments_lexer": "ipython3",
   "version": "3.10.8"
  }
 },
 "nbformat": 4,
 "nbformat_minor": 5
}
